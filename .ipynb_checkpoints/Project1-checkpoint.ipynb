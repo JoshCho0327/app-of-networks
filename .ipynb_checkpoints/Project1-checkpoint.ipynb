{
 "cells": [
  {
   "cell_type": "code",
   "execution_count": 7,
   "id": "8c350758-dd9b-408b-b1df-094c5a5ee102",
   "metadata": {},
   "outputs": [
    {
     "name": "stdout",
     "output_type": "stream",
     "text": [
      "output2.txt file created.\n",
      "Final packet number in the queue: 78\n",
      "Packets Dropped: 0\n",
      "Executed： 0 times\n"
     ]
    }
   ],
   "source": [
    "import random\n",
    "\n",
    "pkt_in_q = 0  # initial pkt number in the queue 隊列中的數據包數量初始化為0\n",
    "pkt_dropped = 0  # initial dropped pkt number 已丟棄的數據包數量初始化為0\n",
    "\n",
    "# event times\n",
    "#模擬的事件數量\n",
    "num_events_to_simulate = 3000\n",
    "\n",
    "# set departure rate and buffer size\n",
    "# 設定到達率和離開率及buffer大小\n",
    "arrival_rate = 125\n",
    "departure_rate = 125\n",
    "buffer_size = 150\n",
    "\n",
    "# calculate the probability for arrival and departure \n",
    "p_arrival = arrival_rate / (arrival_rate + departure_rate) #λ/(λ+μ)\n",
    "\n",
    "count = 0\n",
    "arr = 0\n",
    "\n",
    "with open('op1.txt', 'w') as file:\n",
    "    # Simulate the events\n",
    "    for i in range(num_events_to_simulate):\n",
    "        count += 1\n",
    "\n",
    "        # give a random number to decide whether arrival or departure \n",
    "        random_num = random.random() \n",
    "        \n",
    "        if random_num <= p_arrival: \n",
    "            #arr += 1\n",
    "            #print(\"arr\", arr)\n",
    "            if pkt_in_q < buffer_size:\n",
    "                #arrival events, if there's still space for packet, then add it into queue\n",
    "                pkt_in_q += 1\n",
    "            else:\n",
    "                pkt_dropped += 1\n",
    "        else:\n",
    "            # 離開事件，減少隊列中的數據包數量（如果隊列不為空)\n",
    "            if pkt_in_q > 0:\n",
    "                pkt_in_q -= 1\n",
    "        #Write (event times, number of pocket in the queue, number of dprooed packet) into file                \n",
    "        file.write(f\"{i + 1} {pkt_in_q} {pkt_dropped}\\n\")\n",
    "        \n",
    "print(\"output2.txt file created.\")\n",
    "\n",
    "#Final queue status\n",
    "print(\"Final packet number in the queue:\", pkt_in_q)\n",
    "print(\"Packets Dropped:\", pkt_dropped)\n",
    "print(\"Executed：\",count, \"times\")"
   ]
  },
  {
   "cell_type": "markdown",
   "id": "ec8e87e8-fd83-4b5c-b791-a55ad3355ed4",
   "metadata": {},
   "source": [
    "Bigger arrival and smaller departure rate may cause higher number of pkt dropped."
   ]
  },
  {
   "cell_type": "markdown",
   "id": "39a747f4-3155-447e-a7ab-269005c553b8",
   "metadata": {},
   "source": [
    "input_file = 'input_data.txt'  # 設定輸入文件的路徑\n",
    "output_file = 'output.png'    # 設定輸出文件的路徑\n",
    "title = 'Simulation Results'  # 設定圖表標題\n"
   ]
  }
 ],
 "metadata": {
  "kernelspec": {
   "display_name": "Python 3 (ipykernel)",
   "language": "python",
   "name": "python3"
  },
  "language_info": {
   "codemirror_mode": {
    "name": "ipython",
    "version": 3
   },
   "file_extension": ".py",
   "mimetype": "text/x-python",
   "name": "python",
   "nbconvert_exporter": "python",
   "pygments_lexer": "ipython3",
   "version": "3.11.5"
  }
 },
 "nbformat": 4,
 "nbformat_minor": 5
}
